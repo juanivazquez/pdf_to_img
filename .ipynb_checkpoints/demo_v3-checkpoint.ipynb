{
 "cells": [
  {
   "cell_type": "markdown",
   "id": "995f9758-10fd-491f-ae98-43a12978c89a",
   "metadata": {},
   "source": [
    "# Pdf to an Image pdf"
   ]
  },
  {
   "cell_type": "code",
   "execution_count": 3,
   "id": "28f81c76-9762-42c5-b3a0-50e9030b6ee9",
   "metadata": {},
   "outputs": [],
   "source": [
    "import os\n",
    "from lib_pdf_to_img import pdf_to_img_pdf"
   ]
  },
  {
   "cell_type": "code",
   "execution_count": 10,
   "id": "55d1b9b1-5c72-4b0d-ba63-2239ed86cbc0",
   "metadata": {},
   "outputs": [
    {
     "data": {
      "text/plain": [
       "['.ipynb_checkpoints',\n",
       " 'building-trust-tip-sheet.pdf',\n",
       " 'Enemies-of-Trust.pdf',\n",
       " 'Handout_Trust.pdf',\n",
       " 'thinbookoftrust.pdf']"
      ]
     },
     "execution_count": 10,
     "metadata": {},
     "output_type": "execute_result"
    }
   ],
   "source": [
    "os.listdir('./pdfs/Handout_Trust.pdf')"
   ]
  },
  {
   "cell_type": "code",
   "execution_count": 11,
   "id": "44169b8c-f1ba-479d-954a-6bfddc059db3",
   "metadata": {},
   "outputs": [
    {
     "name": "stdout",
     "output_type": "stream",
     "text": [
      "Images saved to temp\n",
      "./pdfs/Handout_Trust_dist.pdf created successfully\n",
      "Folder 'temp' and its contents deleted.\n",
      "CPU times: total: 3.3 s\n",
      "Wall time: 4.67 s\n"
     ]
    }
   ],
   "source": [
    "%%time\n",
    "pdf_to_img_pdf(\"./pdfs/Handout_Trust.pdf\")"
   ]
  },
  {
   "cell_type": "code",
   "execution_count": 26,
   "id": "8c9ebebc-30b8-46a4-8619-01475e6e9294",
   "metadata": {},
   "outputs": [
    {
     "name": "stdout",
     "output_type": "stream",
     "text": [
      "Watermark added and saved as output_image.png\n"
     ]
    }
   ],
   "source": [
    "from PIL import Image, ImageDraw, ImageFont\n",
    "\n",
    "def add_text_watermark(input_image_path, output_image_path, watermark_text, font_path=None, font_scale=10):\n",
    "    # Open the original image\n",
    "    image = Image.open(input_image_path).convert(\"RGBA\")\n",
    "\n",
    "    # Make the image editable\n",
    "    txt = Image.new(\"RGBA\", image.size, (255, 255, 255, 0))\n",
    "\n",
    "    # Dynamically set the font size based on the image size\n",
    "    font_size = int(min(image.size) / font_scale)  # Adjust the font_scale for larger/smaller text\n",
    "    if font_path:\n",
    "        font = ImageFont.truetype(font_path, font_size)  # Use custom font if provided\n",
    "    else:\n",
    "        # font = ImageFont.load_default()  # Default to system font\n",
    "        font = ImageFont.truetype(\"arial.ttf\", font_size) \n",
    "    # Initialize ImageDraw\n",
    "    draw = ImageDraw.Draw(txt)\n",
    "\n",
    "    # Get the bounding box of the text\n",
    "    text_bbox = draw.textbbox((0, 0), watermark_text, font=font)\n",
    "    text_width, text_height = text_bbox[2] - text_bbox[0], text_bbox[3] - text_bbox[1]\n",
    "\n",
    "    # Calculate the position for the watermark (centered)\n",
    "    position = ((image.size[0] - text_width) // 2, (image.size[1] - text_height) // 2)\n",
    "\n",
    "    # Add the watermark text with transparency\n",
    "    draw.text(position, watermark_text, fill=(128, 128, 128, 100), font=font)\n",
    "\n",
    "    # Rotate the watermark at a 45-degree angle\n",
    "    txt_rotated = txt.rotate(45, expand=1)\n",
    "\n",
    "    # Resize the rotated watermark back to the original image size\n",
    "    txt_resized = txt_rotated.resize(image.size)\n",
    "\n",
    "    # Combine original image with the resized watermark\n",
    "    watermarked = Image.alpha_composite(image, txt_resized)\n",
    "\n",
    "    # Save the result\n",
    "    watermarked = watermarked.convert(\"RGB\")  # Convert back to RGB to save as jpg\n",
    "    watermarked.save(output_image_path)\n",
    "\n",
    "    print(f\"Watermark added and saved as {output_image_path}\")\n",
    "\n",
    "# Usage example:\n",
    "add_text_watermark(\"case.png\", \"output_image.png\", \"pre-print\", font_scale=3)\n"
   ]
  }
 ],
 "metadata": {
  "kernelspec": {
   "display_name": "Python 3 (ipykernel)",
   "language": "python",
   "name": "python3"
  },
  "language_info": {
   "codemirror_mode": {
    "name": "ipython",
    "version": 3
   },
   "file_extension": ".py",
   "mimetype": "text/x-python",
   "name": "python",
   "nbconvert_exporter": "python",
   "pygments_lexer": "ipython3",
   "version": "3.8.19"
  }
 },
 "nbformat": 4,
 "nbformat_minor": 5
}
