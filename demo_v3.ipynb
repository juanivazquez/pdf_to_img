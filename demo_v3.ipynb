{
 "cells": [
  {
   "cell_type": "markdown",
   "id": "995f9758-10fd-491f-ae98-43a12978c89a",
   "metadata": {},
   "source": [
    "# Pdf to an Image pdf"
   ]
  },
  {
   "cell_type": "code",
   "execution_count": 3,
   "id": "28f81c76-9762-42c5-b3a0-50e9030b6ee9",
   "metadata": {},
   "outputs": [],
   "source": [
    "import os\n",
    "from lib_pdf_to_img import pdf_to_img_pdf"
   ]
  },
  {
   "cell_type": "code",
   "execution_count": 5,
   "id": "55d1b9b1-5c72-4b0d-ba63-2239ed86cbc0",
   "metadata": {},
   "outputs": [
    {
     "ename": "NotADirectoryError",
     "evalue": "[WinError 267] El nombre del directorio no es válido: './pdfs/Handout_Trust.pdf'",
     "output_type": "error",
     "traceback": [
      "\u001b[1;31m---------------------------------------------------------------------------\u001b[0m",
      "\u001b[1;31mNotADirectoryError\u001b[0m                        Traceback (most recent call last)",
      "Cell \u001b[1;32mIn[5], line 1\u001b[0m\n\u001b[1;32m----> 1\u001b[0m \u001b[43mos\u001b[49m\u001b[38;5;241;43m.\u001b[39;49m\u001b[43mlistdir\u001b[49m\u001b[43m(\u001b[49m\u001b[38;5;124;43m'\u001b[39;49m\u001b[38;5;124;43m./pdfs/Handout_Trust.pdf\u001b[39;49m\u001b[38;5;124;43m'\u001b[39;49m\u001b[43m)\u001b[49m\n",
      "\u001b[1;31mNotADirectoryError\u001b[0m: [WinError 267] El nombre del directorio no es válido: './pdfs/Handout_Trust.pdf'"
     ]
    }
   ],
   "source": [
    "os.listdir('./pdfs/Handout_Trust.pdf')"
   ]
  },
  {
   "cell_type": "code",
   "execution_count": 6,
   "id": "44169b8c-f1ba-479d-954a-6bfddc059db3",
   "metadata": {},
   "outputs": [
    {
     "name": "stdout",
     "output_type": "stream",
     "text": [
      "Images saved to temp\n",
      "Watermark added and saved as temp/image_1000000.png\n",
      "Watermark added and saved as temp/image_1000001.png\n",
      "Watermark added and saved as temp/image_1000002.png\n",
      "Watermark added and saved as temp/image_1000003.png\n",
      "Watermark added and saved as temp/image_1000004.png\n",
      "Watermark added and saved as temp/image_1000005.png\n",
      "Watermark added and saved as temp/image_1000006.png\n",
      "Watermark added and saved as temp/image_1000007.png\n",
      "Watermark added and saved as temp/image_1000008.png\n",
      "Watermark added and saved as temp/image_1000009.png\n",
      "Watermark added and saved as temp/image_1000010.png\n",
      "Watermark added and saved as temp/image_1000011.png\n",
      "Watermark added and saved as temp/image_1000012.png\n",
      "Watermark added and saved as temp/image_1000013.png\n",
      "Watermark added and saved as temp/image_1000014.png\n",
      "Watermark added and saved as temp/image_1000015.png\n",
      "Watermark added and saved as temp/image_1000016.png\n",
      "Watermark added and saved as temp/image_1000017.png\n",
      "Watermark added and saved as temp/image_1000018.png\n",
      "Watermark added and saved as temp/image_1000019.png\n",
      "Watermark added and saved as temp/image_1000020.png\n",
      "Watermark added and saved as temp/image_1000021.png\n",
      "Watermark added and saved as temp/image_1000022.png\n",
      "Watermark added and saved as temp/image_1000023.png\n",
      "Watermark added and saved as temp/image_1000024.png\n",
      "Watermark added and saved as temp/image_1000025.png\n",
      "Watermark added and saved as temp/image_1000026.png\n",
      "Watermark added and saved as temp/image_1000027.png\n",
      "Watermark added and saved as temp/image_1000028.png\n",
      "Watermark added and saved as temp/image_1000029.png\n",
      "Watermark added and saved as temp/image_1000030.png\n",
      "Watermark added and saved as temp/image_1000031.png\n",
      "Watermark added and saved as temp/image_1000032.png\n",
      "Watermark added and saved as temp/image_1000033.png\n",
      "Watermark added and saved as temp/image_1000034.png\n",
      "Watermark added and saved as temp/image_1000035.png\n",
      "Watermark added and saved as temp/image_1000036.png\n",
      "Watermark added and saved as temp/image_1000037.png\n",
      "Watermark added and saved as temp/image_1000038.png\n",
      "Watermark added and saved as temp/image_1000039.png\n",
      "Watermark added and saved as temp/image_1000040.png\n",
      "Watermark added and saved as temp/image_1000041.png\n",
      "Watermark added and saved as temp/image_1000042.png\n",
      "Watermark added and saved as temp/image_1000043.png\n",
      "Watermark added and saved as temp/image_1000044.png\n",
      "Watermark added and saved as temp/image_1000045.png\n",
      "Watermark added and saved as temp/image_1000046.png\n"
     ]
    },
    {
     "ename": "NameError",
     "evalue": "name 'new_pdf_path' is not defined",
     "output_type": "error",
     "traceback": [
      "\u001b[1;31m---------------------------------------------------------------------------\u001b[0m",
      "\u001b[1;31mNameError\u001b[0m                                 Traceback (most recent call last)",
      "File \u001b[1;32m<timed eval>:1\u001b[0m\n",
      "File \u001b[1;32m~\\Documents\\3_My_Jupiter_Notebooks\\0_github\\1_2024\\4_widgets\\lib_pdf_to_img\\lib_pdf_to_img\\utils.py:27\u001b[0m, in \u001b[0;36mpdf_to_img_pdf\u001b[1;34m(pdf, watermark)\u001b[0m\n\u001b[0;32m     24\u001b[0m         file_path \u001b[38;5;241m=\u001b[39m \u001b[38;5;124mf\u001b[39m\u001b[38;5;124m\"\u001b[39m\u001b[38;5;124mtemp/\u001b[39m\u001b[38;5;132;01m{\u001b[39;00mf\u001b[38;5;132;01m}\u001b[39;00m\u001b[38;5;124m\"\u001b[39m\n\u001b[0;32m     25\u001b[0m         add_text_watermark(file_path,file_path, \u001b[38;5;124m\"\u001b[39m\u001b[38;5;124mpre-print\u001b[39m\u001b[38;5;124m\"\u001b[39m, font_scale\u001b[38;5;241m=\u001b[39m\u001b[38;5;241m3\u001b[39m)\n\u001b[1;32m---> 27\u001b[0m \u001b[38;5;28;01mif\u001b[39;00m \u001b[43mnew_pdf_path\u001b[49m:\n\u001b[0;32m     28\u001b[0m     \u001b[38;5;66;03m# 3° add a small delay to ensure save process completes\u001b[39;00m\n\u001b[0;32m     29\u001b[0m     time\u001b[38;5;241m.\u001b[39msleep(\u001b[38;5;241m1\u001b[39m)  \u001b[38;5;66;03m# Wait for 1 second to ensure save completes\u001b[39;00m\n\u001b[0;32m     30\u001b[0m     \u001b[38;5;66;03m# 4° remove_all if PDF saved:\u001b[39;00m\n",
      "\u001b[1;31mNameError\u001b[0m: name 'new_pdf_path' is not defined"
     ]
    }
   ],
   "source": [
    "%%time\n",
    "pdf_to_img_pdf(\"./pdfs/Handout_Trust.pdf\",watermark=\"TEST\")"
   ]
  },
  {
   "cell_type": "code",
   "execution_count": 26,
   "id": "8c9ebebc-30b8-46a4-8619-01475e6e9294",
   "metadata": {},
   "outputs": [
    {
     "name": "stdout",
     "output_type": "stream",
     "text": [
      "Watermark added and saved as output_image.png\n"
     ]
    }
   ],
   "source": [
    "from PIL import Image, ImageDraw, ImageFont\n",
    "\n",
    "def add_text_watermark(input_image_path, output_image_path, watermark_text, font_path=None, font_scale=10):\n",
    "    # Open the original image\n",
    "    image = Image.open(input_image_path).convert(\"RGBA\")\n",
    "\n",
    "    # Make the image editable\n",
    "    txt = Image.new(\"RGBA\", image.size, (255, 255, 255, 0))\n",
    "\n",
    "    # Dynamically set the font size based on the image size\n",
    "    font_size = int(min(image.size) / font_scale)  # Adjust the font_scale for larger/smaller text\n",
    "    if font_path:\n",
    "        font = ImageFont.truetype(font_path, font_size)  # Use custom font if provided\n",
    "    else:\n",
    "        # font = ImageFont.load_default()  # Default to system font\n",
    "        font = ImageFont.truetype(\"arial.ttf\", font_size) \n",
    "    # Initialize ImageDraw\n",
    "    draw = ImageDraw.Draw(txt)\n",
    "\n",
    "    # Get the bounding box of the text\n",
    "    text_bbox = draw.textbbox((0, 0), watermark_text, font=font)\n",
    "    text_width, text_height = text_bbox[2] - text_bbox[0], text_bbox[3] - text_bbox[1]\n",
    "\n",
    "    # Calculate the position for the watermark (centered)\n",
    "    position = ((image.size[0] - text_width) // 2, (image.size[1] - text_height) // 2)\n",
    "\n",
    "    # Add the watermark text with transparency\n",
    "    draw.text(position, watermark_text, fill=(128, 128, 128, 100), font=font)\n",
    "\n",
    "    # Rotate the watermark at a 45-degree angle\n",
    "    txt_rotated = txt.rotate(45, expand=1)\n",
    "\n",
    "    # Resize the rotated watermark back to the original image size\n",
    "    txt_resized = txt_rotated.resize(image.size)\n",
    "\n",
    "    # Combine original image with the resized watermark\n",
    "    watermarked = Image.alpha_composite(image, txt_resized)\n",
    "\n",
    "    # Save the result\n",
    "    watermarked = watermarked.convert(\"RGB\")  # Convert back to RGB to save as jpg\n",
    "    watermarked.save(output_image_path)\n",
    "\n",
    "    print(f\"Watermark added and saved as {output_image_path}\")\n",
    "\n",
    "# Usage example:\n",
    "add_text_watermark(\"case.png\", \"output_image.png\", \"pre-print\", font_scale=3)\n"
   ]
  },
  {
   "cell_type": "code",
   "execution_count": null,
   "id": "38627936-3046-4a51-8d2d-5d0586dcd163",
   "metadata": {},
   "outputs": [],
   "source": [
    "from PIL import Image, ImageDraw, ImageFont\n",
    "\n",
    "def add_text_watermark(input_image_path, output_image_path, watermark_text, font_path=None, font_scale=5):\n",
    "    # Open the original image\n",
    "    image = Image.open(input_image_path).convert(\"RGBA\")\n",
    "\n",
    "    # Make the image editable\n",
    "    txt = Image.new(\"RGBA\", image.size, (255, 255, 255, 0))\n",
    "\n",
    "    # Dynamically set the font size based on the image size\n",
    "    font_size = int(min(image.size) / font_scale)  # Adjust the font_scale for larger/smaller text\n",
    "    if font_path:\n",
    "        font = ImageFont.truetype(font_path, font_size)  # Use custom font if provided\n",
    "    else:\n",
    "        # font = ImageFont.load_default()  # Default to system font\n",
    "        font = ImageFont.truetype(\"arial.ttf\", font_size) \n",
    "    # Initialize ImageDraw\n",
    "    draw = ImageDraw.Draw(txt)\n",
    "\n",
    "    # Get the bounding box of the text\n",
    "    text_bbox = draw.textbbox((0, 0), watermark_text, font=font)\n",
    "    text_width, text_height = text_bbox[2] - text_bbox[0], text_bbox[3] - text_bbox[1]\n",
    "\n",
    "    # Calculate the position for the watermark (centered)\n",
    "    position = ((image.size[0] - text_width) // 2, (image.size[1] - text_height) // 2)\n",
    "\n",
    "    # Add the watermark text with transparency\n",
    "    draw.text(position, watermark_text, fill=(128, 128, 128, 100), font=font)\n",
    "\n",
    "    # Rotate the watermark at a 45-degree angle\n",
    "    txt_rotated = txt.rotate(45, expand=1)\n",
    "\n",
    "    # Resize the rotated watermark back to the original image size\n",
    "    txt_resized = txt_rotated.resize(image.size)\n",
    "\n",
    "    # Combine original image with the resized watermark\n",
    "    watermarked = Image.alpha_composite(image, txt_resized)\n",
    "\n",
    "    # Save the result\n",
    "    watermarked = watermarked.convert(\"RGB\")  # Convert back to RGB to save as jpg\n",
    "    watermarked.save(output_image_path)\n",
    "\n",
    "    print(f\"Watermark added and saved as {output_image_path}\")\n",
    "\n",
    "# Usage example:\n",
    "add_text_watermark(\"case.png\", \"output_image.png\", \"pre-print\", font_scale=3)\n"
   ]
  }
 ],
 "metadata": {
  "kernelspec": {
   "display_name": "Python 3 (ipykernel)",
   "language": "python",
   "name": "python3"
  },
  "language_info": {
   "codemirror_mode": {
    "name": "ipython",
    "version": 3
   },
   "file_extension": ".py",
   "mimetype": "text/x-python",
   "name": "python",
   "nbconvert_exporter": "python",
   "pygments_lexer": "ipython3",
   "version": "3.8.19"
  }
 },
 "nbformat": 4,
 "nbformat_minor": 5
}
