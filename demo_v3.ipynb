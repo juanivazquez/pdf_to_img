{
 "cells": [
  {
   "cell_type": "markdown",
   "id": "995f9758-10fd-491f-ae98-43a12978c89a",
   "metadata": {},
   "source": [
    "# Pdf to an Image pdf"
   ]
  },
  {
   "cell_type": "code",
   "execution_count": 1,
   "id": "28f81c76-9762-42c5-b3a0-50e9030b6ee9",
   "metadata": {},
   "outputs": [],
   "source": [
    "from pdf_to_img_pdf import pdf_to_img_pdf"
   ]
  },
  {
   "cell_type": "code",
   "execution_count": 2,
   "id": "44169b8c-f1ba-479d-954a-6bfddc059db3",
   "metadata": {},
   "outputs": [
    {
     "name": "stdout",
     "output_type": "stream",
     "text": [
      "Images saved to temp\n",
      "teo_sdt_2_dist_v1.pdf created successfully\n",
      "Folder 'temp' and its contents deleted.\n",
      "CPU times: total: 5.3 s\n",
      "Wall time: 6.52 s\n"
     ]
    }
   ],
   "source": [
    "%%time\n",
    "pdf_to_img_pdf(\"teo_sdt_2.pdf\")"
   ]
  }
 ],
 "metadata": {
  "kernelspec": {
   "display_name": "Python 3 (ipykernel)",
   "language": "python",
   "name": "python3"
  },
  "language_info": {
   "codemirror_mode": {
    "name": "ipython",
    "version": 3
   },
   "file_extension": ".py",
   "mimetype": "text/x-python",
   "name": "python",
   "nbconvert_exporter": "python",
   "pygments_lexer": "ipython3",
   "version": "3.8.19"
  }
 },
 "nbformat": 4,
 "nbformat_minor": 5
}
