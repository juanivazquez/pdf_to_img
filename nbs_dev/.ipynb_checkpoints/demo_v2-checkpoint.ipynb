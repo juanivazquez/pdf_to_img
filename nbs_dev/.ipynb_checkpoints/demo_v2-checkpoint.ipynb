{
 "cells": [
  {
   "cell_type": "markdown",
   "id": "995f9758-10fd-491f-ae98-43a12978c89a",
   "metadata": {},
   "source": [
    "# Pdf to an Image pdf"
   ]
  },
  {
   "cell_type": "markdown",
   "id": "48062ac4-f8e1-4b57-86be-6ee01712cf9c",
   "metadata": {},
   "source": [
    "### code"
   ]
  },
  {
   "cell_type": "code",
   "execution_count": 6,
   "id": "1c70cf1b-e00a-4588-81e9-53c7c8283901",
   "metadata": {},
   "outputs": [
    {
     "name": "stdout",
     "output_type": "stream",
     "text": [
      "Images saved to temp\n",
      "input_dist.pdf created successfully\n",
      "Folder 'temp' and its contents deleted.\n"
     ]
    }
   ],
   "source": [
    "import fitz  # PyMuPDF\n",
    "import os\n",
    "import shutil\n",
    "import time  # For introducing a delay\n",
    "\n",
    "def pdf_to_img_pdf(pdf):\n",
    "    '''\n",
    "    f(x): it takes a pdf and creates a new pdf out of images of it.\n",
    "    in  : pdf file path\n",
    "    out : new pdf made of png images\n",
    "    '''\n",
    "    # 1° creates folder with imgs:\n",
    "    file_name = pdf_to_imgs(pdf, save=True)\n",
    "    \n",
    "    # 2° create files:\n",
    "    new_pdf_path = imgs_to_pdf(file_name)\n",
    "    \n",
    "    if new_pdf_path:\n",
    "        # 3° add a small delay to ensure save process completes\n",
    "        time.sleep(1)  # Wait for 1 second to ensure save completes\n",
    "        # 4° remove_all if PDF saved:\n",
    "        delete_folder('temp')\n",
    "    else:\n",
    "        print(\"PDF creation failed. Temp folder not deleted.\")\n",
    "\n",
    "\n",
    "def pdf_to_imgs(pdf_file, save=True):\n",
    "    '''\n",
    "    f(x): it creates a temp folder with png images from the original pdf and provides a file_name for the final pdf\n",
    "    in  : pdf file path\n",
    "    out : file_name \n",
    "    '''\n",
    "    doc = fitz.open(pdf_file)\n",
    "    zoom = 4\n",
    "    mat = fitz.Matrix(zoom, zoom)\n",
    "    count = 0\n",
    "\n",
    "    folder_name = 'temp'\n",
    "    os.makedirs(folder_name, exist_ok=True)\n",
    "    \n",
    "    for p in doc:\n",
    "        count += 1\n",
    "    for i in range(count):\n",
    "        val = os.path.join(folder_name, f\"image_{i + 1000000}.png\")\n",
    "        page = doc.load_page(i)\n",
    "        pix = page.get_pixmap(matrix=mat)\n",
    "        pix.save(val)    \n",
    "    doc.close()\n",
    "    print('Images saved to temp')\n",
    "    \n",
    "    return pdf_file.replace('.pdf','')\n",
    " \n",
    "\n",
    "def imgs_to_pdf(file_name, save=True):\n",
    "    '''\n",
    "    Converts images from temp folder back to a PDF.\n",
    "    '''\n",
    "    doc = fitz.open() \n",
    "    imglist = os.listdir('temp')  \n",
    "    imglist = [f for f in imglist if f.endswith('.png')]  # Only process PNG files\n",
    "    imglist.sort()  # Ensure images are in order\n",
    "    \n",
    "    if not imglist:\n",
    "        print(\"No images found in the 'temp' folder.\")\n",
    "        return None\n",
    "    \n",
    "    for f in imglist:\n",
    "        img = fitz.open(os.path.join('temp', f)) \n",
    "        rect = img[0].rect  \n",
    "        pdfbytes = img.convert_to_pdf() \n",
    "        img.close() \n",
    "        imgPDF = fitz.open(\"pdf\", pdfbytes)  \n",
    "        page = doc.new_page(width=rect.width, height=rect.height) \n",
    "        page.show_pdf_page(rect, imgPDF, 0)  \n",
    "    \n",
    "    if save:\n",
    "        new_pdf_name = file_name + '_dist.pdf'\n",
    "        c = 1\n",
    "        while os.path.exists(new_pdf_name):\n",
    "            new_pdf_name = file_name + f'_dist_v{c}.pdf'\n",
    "            c += 1\n",
    "        try:\n",
    "            doc.save(new_pdf_name)\n",
    "            print(f\"{new_pdf_name} created successfully\")\n",
    "        except Exception as e:\n",
    "            print(f\"Error saving PDF: {e}\")\n",
    "            return None\n",
    "        finally:\n",
    "            doc.close()  # Make sure the document is properly closed\n",
    "        \n",
    "        return new_pdf_name\n",
    "\n",
    "    return doc\n",
    "\n",
    "\n",
    "def delete_folder(folder_path):\n",
    "    '''\n",
    "    Deletes a folder and all its contents.\n",
    "    '''\n",
    "    # Delete the folder and all its contents\n",
    "    try:\n",
    "        shutil.rmtree(folder_path)\n",
    "        print(f\"Folder '{folder_path}' and its contents deleted.\")\n",
    "    except Exception as e:\n",
    "        print(f\"Error deleting folder: {e}\")\n",
    "\n",
    "\n",
    "# Example usage:\n",
    "pdf_to_img_pdf(\"input.pdf\")\n"
   ]
  },
  {
   "cell_type": "markdown",
   "id": "e8db8357-c137-4492-bc55-ce4778a3aa67",
   "metadata": {},
   "source": [
    "### example"
   ]
  },
  {
   "cell_type": "code",
   "execution_count": 9,
   "id": "ed6d5a88-6c1d-4438-8bc2-cc26a857b7b0",
   "metadata": {},
   "outputs": [
    {
     "name": "stdout",
     "output_type": "stream",
     "text": [
      "Images saved to temp\n",
      "teo_sdt_2_dist.pdf created successfully\n",
      "Folder 'temp' and its contents deleted.\n"
     ]
    }
   ],
   "source": [
    "pdf_to_img_pdf(\"teo_sdt_2.pdf\")"
   ]
  }
 ],
 "metadata": {
  "kernelspec": {
   "display_name": "Python 3 (ipykernel)",
   "language": "python",
   "name": "python3"
  },
  "language_info": {
   "codemirror_mode": {
    "name": "ipython",
    "version": 3
   },
   "file_extension": ".py",
   "mimetype": "text/x-python",
   "name": "python",
   "nbconvert_exporter": "python",
   "pygments_lexer": "ipython3",
   "version": "3.8.19"
  }
 },
 "nbformat": 4,
 "nbformat_minor": 5
}
